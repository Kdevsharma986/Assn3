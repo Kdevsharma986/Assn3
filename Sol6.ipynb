{
 "cells": [
  {
   "cell_type": "code",
   "execution_count": 1,
   "id": "c17ca4b4-a4a2-4b8d-87f6-4ec7232809b0",
   "metadata": {},
   "outputs": [
    {
     "name": "stdout",
     "output_type": "stream",
     "text": [
      "0\n",
      "1\n",
      "1\n",
      "2\n",
      "3\n",
      "5\n",
      "8\n",
      "13\n",
      "21\n",
      "34\n"
     ]
    }
   ],
   "source": [
    "# Function to print the first 10 Fibonacci numbers\n",
    "def print_fibonacci():\n",
    "    count = 0\n",
    "    num1, num2 = 0, 1\n",
    "\n",
    "    while count < 10:\n",
    "        print(num1)\n",
    "        num1, num2 = num2, num1 + num2\n",
    "        count += 1\n",
    "\n",
    "# Call the function to print the Fibonacci numbers\n",
    "print_fibonacci()"
   ]
  },
  {
   "cell_type": "code",
   "execution_count": null,
   "id": "7572307f-a6d3-4220-b0da-f9ef54cbb136",
   "metadata": {},
   "outputs": [],
   "source": []
  }
 ],
 "metadata": {
  "kernelspec": {
   "display_name": "Python 3 (ipykernel)",
   "language": "python",
   "name": "python3"
  },
  "language_info": {
   "codemirror_mode": {
    "name": "ipython",
    "version": 3
   },
   "file_extension": ".py",
   "mimetype": "text/x-python",
   "name": "python",
   "nbconvert_exporter": "python",
   "pygments_lexer": "ipython3",
   "version": "3.10.8"
  }
 },
 "nbformat": 4,
 "nbformat_minor": 5
}
