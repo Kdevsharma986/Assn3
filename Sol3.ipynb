{
 "cells": [
  {
   "cell_type": "code",
   "execution_count": 1,
   "id": "a7ecb286-ad62-42f5-b6d5-4902806416c5",
   "metadata": {},
   "outputs": [
    {
     "name": "stdout",
     "output_type": "stream",
     "text": [
      "2\n",
      "4\n",
      "6\n",
      "8\n",
      "10\n"
     ]
    }
   ],
   "source": [
    "\"\"\"In Python, an iterator is an object that allows us to access through elements of a collection or sequence one at a time. It provides a way to access the elements sequentially without exposing the underlying structure of the collection.\n",
    "We use iter() function to initialize an iterator object. \n",
    "To iterate over the elements using an iterator, we can use the next() function. The next() function retrieves the next item from the iterator. By calling next() repeatedly, we can access each element in the sequence.\n",
    "\n",
    "Print the first five elements of the given list [2, 4, 6, 8, 10, 12, 14, 16, 18, 20]:\"\"\"\n",
    "\n",
    "\n",
    "my_list = [2, 4, 6, 8, 10, 12, 14, 16, 18, 20]\n",
    "\n",
    "my_iterator = iter(my_list)\n",
    "\n",
    "for _ in range(5):\n",
    "    element = next(my_iterator)\n",
    "    print(element)"
   ]
  },
  {
   "cell_type": "code",
   "execution_count": null,
   "id": "d9842ead-6f33-4e72-a2bc-d2e640690505",
   "metadata": {},
   "outputs": [],
   "source": []
  }
 ],
 "metadata": {
  "kernelspec": {
   "display_name": "Python 3 (ipykernel)",
   "language": "python",
   "name": "python3"
  },
  "language_info": {
   "codemirror_mode": {
    "name": "ipython",
    "version": 3
   },
   "file_extension": ".py",
   "mimetype": "text/x-python",
   "name": "python",
   "nbconvert_exporter": "python",
   "pygments_lexer": "ipython3",
   "version": "3.10.8"
  }
 },
 "nbformat": 4,
 "nbformat_minor": 5
}
