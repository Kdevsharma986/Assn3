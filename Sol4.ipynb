{
 "cells": [
  {
   "cell_type": "code",
   "execution_count": 1,
   "id": "32fde463-19b8-4d0e-b352-f2edb527e254",
   "metadata": {},
   "outputs": [
    {
     "name": "stdout",
     "output_type": "stream",
     "text": [
      "0\n",
      "2\n",
      "4\n",
      "6\n",
      "8\n"
     ]
    }
   ],
   "source": [
    "\"\"\"In Python, a generator function is a special type of function \n",
    "that generates a sequence of values using the 'yield' keyword instead of 'return'. \n",
    "It allows us to create iterators in a more concise and efficient way.\n",
    "\n",
    "Here's an example of a generator function that generates a sequence of even numbers:\"\"\"\n",
    "\n",
    "def even_numbers(n):\n",
    "    for i in range(n):\n",
    "        if i % 2 == 0:\n",
    "            yield i\n",
    "\n",
    "even_gen = even_numbers(10)\n",
    "for num in even_gen:\n",
    "    print(num)"
   ]
  },
  {
   "cell_type": "code",
   "execution_count": null,
   "id": "45ebc334-c89e-42ac-92f6-43f094b3530e",
   "metadata": {},
   "outputs": [],
   "source": []
  }
 ],
 "metadata": {
  "kernelspec": {
   "display_name": "Python 3 (ipykernel)",
   "language": "python",
   "name": "python3"
  },
  "language_info": {
   "codemirror_mode": {
    "name": "ipython",
    "version": 3
   },
   "file_extension": ".py",
   "mimetype": "text/x-python",
   "name": "python",
   "nbconvert_exporter": "python",
   "pygments_lexer": "ipython3",
   "version": "3.10.8"
  }
 },
 "nbformat": 4,
 "nbformat_minor": 5
}
