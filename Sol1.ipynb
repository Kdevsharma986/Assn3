{
 "cells": [
  {
   "cell_type": "code",
   "execution_count": null,
   "id": "d3f7f9a3-9fe4-451e-8661-52a69c652b35",
   "metadata": {},
   "outputs": [],
   "source": [
    "'''In Python we are using def keyword to create a function\n",
    "Below is a function to identify odd numbers in range 1 to 25."
   ]
  },
  {
   "cell_type": "code",
   "execution_count": 4,
   "id": "cafddbd4-8076-45ef-abda-f084bb1da327",
   "metadata": {},
   "outputs": [
    {
     "name": "stdout",
     "output_type": "stream",
     "text": [
      "[1, 3, 5, 7, 9, 11, 13, 15, 17, 19, 21, 23, 25]\n"
     ]
    }
   ],
   "source": [
    "def get_odd_numbers():\n",
    "    odd_numbers = [number for number in range(1, 26) if number % 2 != 0]\n",
    "    return odd_numbers\n",
    "print(get_odd_numbers())\n"
   ]
  },
  {
   "cell_type": "code",
   "execution_count": null,
   "id": "53aa3a31-967b-46b0-846e-9becabee614f",
   "metadata": {},
   "outputs": [],
   "source": []
  },
  {
   "cell_type": "code",
   "execution_count": null,
   "id": "3ce23e90-1818-47ea-a7f9-c63ade207700",
   "metadata": {},
   "outputs": [],
   "source": []
  }
 ],
 "metadata": {
  "kernelspec": {
   "display_name": "Python 3 (ipykernel)",
   "language": "python",
   "name": "python3"
  },
  "language_info": {
   "codemirror_mode": {
    "name": "ipython",
    "version": 3
   },
   "file_extension": ".py",
   "mimetype": "text/x-python",
   "name": "python",
   "nbconvert_exporter": "python",
   "pygments_lexer": "ipython3",
   "version": "3.10.8"
  }
 },
 "nbformat": 4,
 "nbformat_minor": 5
}
