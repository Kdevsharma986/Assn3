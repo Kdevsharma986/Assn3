{
 "cells": [
  {
   "cell_type": "code",
   "execution_count": 1,
   "id": "550cbc40-197b-4b0d-94e0-7a4aef605b30",
   "metadata": {},
   "outputs": [
    {
     "name": "stdout",
     "output_type": "stream",
     "text": [
      "2\n",
      "3\n",
      "5\n",
      "7\n",
      "11\n",
      "13\n",
      "17\n",
      "19\n",
      "23\n",
      "29\n",
      "31\n",
      "37\n",
      "41\n",
      "43\n",
      "47\n",
      "53\n",
      "59\n",
      "61\n",
      "67\n",
      "71\n"
     ]
    }
   ],
   "source": [
    "def prime_numbers():\n",
    "    yield 2  # 2 is the first prime number\n",
    "    primes = [2]  # List to store prime numbers\n",
    "    current_num = 3  # Start checking from 3\n",
    "\n",
    "    while current_num < 1000:\n",
    "        is_prime = True\n",
    "        for prime in primes:\n",
    "            if prime * prime > current_num:\n",
    "                break\n",
    "            if current_num % prime == 0:\n",
    "                is_prime = False\n",
    "                break\n",
    "\n",
    "        if is_prime:\n",
    "            yield current_num\n",
    "            primes.append(current_num)\n",
    "\n",
    "        current_num += 2  # Check only odd numbers\n",
    "\n",
    "# Generate and print the first 20 prime numbers\n",
    "prime_gen = prime_numbers()\n",
    "for _ in range(20):\n",
    "    prime = next(prime_gen)\n",
    "    print(prime)\n"
   ]
  },
  {
   "cell_type": "code",
   "execution_count": null,
   "id": "213b711d-7298-4898-ba1f-715e28311484",
   "metadata": {},
   "outputs": [],
   "source": []
  }
 ],
 "metadata": {
  "kernelspec": {
   "display_name": "Python 3 (ipykernel)",
   "language": "python",
   "name": "python3"
  },
  "language_info": {
   "codemirror_mode": {
    "name": "ipython",
    "version": 3
   },
   "file_extension": ".py",
   "mimetype": "text/x-python",
   "name": "python",
   "nbconvert_exporter": "python",
   "pygments_lexer": "ipython3",
   "version": "3.10.8"
  }
 },
 "nbformat": 4,
 "nbformat_minor": 5
}
