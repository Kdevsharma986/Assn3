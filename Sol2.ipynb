{
 "cells": [
  {
   "cell_type": "code",
   "execution_count": null,
   "id": "ee1739b8-4bc8-4809-9b98-71188a880f26",
   "metadata": {},
   "outputs": [],
   "source": [
    "\"\"\"In Python *args allow us to pass variable number of non arguments to a function\n",
    "In the function we should use * before the parameter name to pass a variable numner of argumnets\"\"\""
   ]
  },
  {
   "cell_type": "code",
   "execution_count": 4,
   "id": "b707a20c-f0d7-47b1-be8f-4629feac2f16",
   "metadata": {},
   "outputs": [
    {
     "name": "stdout",
     "output_type": "stream",
     "text": [
      "HELLOWORLD@\n"
     ]
    }
   ],
   "source": [
    "def argfun(*args):\n",
    "    result = ''\n",
    "    for arg in args:\n",
    "        result += arg\n",
    "    return result\n",
    "print (argfun('HELLO', 'WORLD','@'))     "
   ]
  },
  {
   "cell_type": "code",
   "execution_count": null,
   "id": "1ef97c08-2e5b-434b-b9aa-98ae9ea0a3f2",
   "metadata": {},
   "outputs": [],
   "source": [
    "\"\"\" *kwargs allow to pass a variable number of keyword argumnets to a function\n",
    "In the function we use ** before the parameter name to denote this type of argumnet."
   ]
  },
  {
   "cell_type": "code",
   "execution_count": 5,
   "id": "fb7e8a08-aabe-4f13-9037-79ca6046bcfe",
   "metadata": {},
   "outputs": [
    {
     "name": "stdout",
     "output_type": "stream",
     "text": [
      "name: John\n",
      "age: 25\n",
      "city: New York\n"
     ]
    }
   ],
   "source": [
    "def print_info(**kwargs):\n",
    "    for key, value in kwargs.items():\n",
    "        print(key + ':', value)\n",
    "\n",
    "print_info(name='John', age=25, city='New York')"
   ]
  },
  {
   "cell_type": "code",
   "execution_count": null,
   "id": "5181ba14-beed-4162-959b-3abb1234d76d",
   "metadata": {},
   "outputs": [],
   "source": []
  },
  {
   "cell_type": "code",
   "execution_count": null,
   "id": "47479111-018b-47d8-a7d6-29b7ba10c09d",
   "metadata": {},
   "outputs": [],
   "source": []
  }
 ],
 "metadata": {
  "kernelspec": {
   "display_name": "Python 3 (ipykernel)",
   "language": "python",
   "name": "python3"
  },
  "language_info": {
   "codemirror_mode": {
    "name": "ipython",
    "version": 3
   },
   "file_extension": ".py",
   "mimetype": "text/x-python",
   "name": "python",
   "nbconvert_exporter": "python",
   "pygments_lexer": "ipython3",
   "version": "3.10.8"
  }
 },
 "nbformat": 4,
 "nbformat_minor": 5
}
